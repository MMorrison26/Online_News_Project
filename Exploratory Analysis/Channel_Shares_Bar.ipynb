{
 "cells": [
  {
   "cell_type": "code",
   "execution_count": 3,
   "id": "f624e4a6-d10d-4a1b-8eae-82ac012027fe",
   "metadata": {},
   "outputs": [],
   "source": [
    "#define graphs\n",
    "%matplotlib inline"
   ]
  },
  {
   "cell_type": "code",
   "execution_count": 4,
   "id": "d7991e00-aa42-4a57-a8e8-e6a58cef2a7d",
   "metadata": {},
   "outputs": [],
   "source": [
    "import pandas as pd\n",
    "import csv\n",
    "import matplotlib.pyplot as plt\n",
    "import numpy as np"
   ]
  },
  {
   "cell_type": "code",
   "execution_count": 5,
   "id": "e99354f2-f30e-4d6e-a4c7-797bcf906a93",
   "metadata": {},
   "outputs": [],
   "source": [
    "#directory\n",
    "data_to_load = \"../csv Files/Category - Sheet1.csv\""
   ]
  },
  {
   "cell_type": "code",
   "execution_count": 6,
   "id": "e470ffc3-9780-4e19-9743-2d3a054ac414",
   "metadata": {},
   "outputs": [
    {
     "data": {
      "text/html": [
       "<div>\n",
       "<style scoped>\n",
       "    .dataframe tbody tr th:only-of-type {\n",
       "        vertical-align: middle;\n",
       "    }\n",
       "\n",
       "    .dataframe tbody tr th {\n",
       "        vertical-align: top;\n",
       "    }\n",
       "\n",
       "    .dataframe thead th {\n",
       "        text-align: right;\n",
       "    }\n",
       "</style>\n",
       "<table border=\"1\" class=\"dataframe\">\n",
       "  <thead>\n",
       "    <tr style=\"text-align: right;\">\n",
       "      <th></th>\n",
       "      <th>url</th>\n",
       "      <th>data_channel_is_lifestyle</th>\n",
       "      <th>data_channel_is_entertainment</th>\n",
       "      <th>data_channel_is_bus</th>\n",
       "      <th>data_channel_is_socmed</th>\n",
       "      <th>data_channel_is_tech</th>\n",
       "      <th>data_channel_is_world</th>\n",
       "    </tr>\n",
       "  </thead>\n",
       "  <tbody>\n",
       "    <tr>\n",
       "      <th>0</th>\n",
       "      <td>http://mashable.com/2013/01/07/amazon-instant-...</td>\n",
       "      <td>0</td>\n",
       "      <td>1</td>\n",
       "      <td>0</td>\n",
       "      <td>0</td>\n",
       "      <td>0</td>\n",
       "      <td>0</td>\n",
       "    </tr>\n",
       "    <tr>\n",
       "      <th>1</th>\n",
       "      <td>http://mashable.com/2013/01/07/ap-samsung-spon...</td>\n",
       "      <td>0</td>\n",
       "      <td>0</td>\n",
       "      <td>1</td>\n",
       "      <td>0</td>\n",
       "      <td>0</td>\n",
       "      <td>0</td>\n",
       "    </tr>\n",
       "    <tr>\n",
       "      <th>2</th>\n",
       "      <td>http://mashable.com/2013/01/07/apple-40-billio...</td>\n",
       "      <td>0</td>\n",
       "      <td>0</td>\n",
       "      <td>1</td>\n",
       "      <td>0</td>\n",
       "      <td>0</td>\n",
       "      <td>0</td>\n",
       "    </tr>\n",
       "    <tr>\n",
       "      <th>3</th>\n",
       "      <td>http://mashable.com/2013/01/07/astronaut-notre...</td>\n",
       "      <td>0</td>\n",
       "      <td>1</td>\n",
       "      <td>0</td>\n",
       "      <td>0</td>\n",
       "      <td>0</td>\n",
       "      <td>0</td>\n",
       "    </tr>\n",
       "    <tr>\n",
       "      <th>4</th>\n",
       "      <td>http://mashable.com/2013/01/07/att-u-verse-apps/</td>\n",
       "      <td>0</td>\n",
       "      <td>0</td>\n",
       "      <td>0</td>\n",
       "      <td>0</td>\n",
       "      <td>1</td>\n",
       "      <td>0</td>\n",
       "    </tr>\n",
       "  </tbody>\n",
       "</table>\n",
       "</div>"
      ],
      "text/plain": [
       "                                                 url  \\\n",
       "0  http://mashable.com/2013/01/07/amazon-instant-...   \n",
       "1  http://mashable.com/2013/01/07/ap-samsung-spon...   \n",
       "2  http://mashable.com/2013/01/07/apple-40-billio...   \n",
       "3  http://mashable.com/2013/01/07/astronaut-notre...   \n",
       "4   http://mashable.com/2013/01/07/att-u-verse-apps/   \n",
       "\n",
       "   data_channel_is_lifestyle  data_channel_is_entertainment  \\\n",
       "0                          0                              1   \n",
       "1                          0                              0   \n",
       "2                          0                              0   \n",
       "3                          0                              1   \n",
       "4                          0                              0   \n",
       "\n",
       "   data_channel_is_bus  data_channel_is_socmed  data_channel_is_tech  \\\n",
       "0                    0                       0                     0   \n",
       "1                    1                       0                     0   \n",
       "2                    1                       0                     0   \n",
       "3                    0                       0                     0   \n",
       "4                    0                       0                     1   \n",
       "\n",
       "   data_channel_is_world  \n",
       "0                      0  \n",
       "1                      0  \n",
       "2                      0  \n",
       "3                      0  \n",
       "4                      0  "
      ]
     },
     "execution_count": 6,
     "metadata": {},
     "output_type": "execute_result"
    }
   ],
   "source": [
    "#dataframe\n",
    "df = pd.read_csv(data_to_load)\n",
    "df.head()"
   ]
  },
  {
   "cell_type": "code",
   "execution_count": 7,
   "id": "16289d21-166a-4898-ae48-731d01fc7442",
   "metadata": {},
   "outputs": [],
   "source": [
    "## df.pivot(columns='url')\n",
    "## df.head()"
   ]
  },
  {
   "cell_type": "code",
   "execution_count": 8,
   "id": "6f06add9-9735-4415-9ae6-8fe1b2096664",
   "metadata": {},
   "outputs": [
    {
     "data": {
      "text/html": [
       "<div>\n",
       "<style scoped>\n",
       "    .dataframe tbody tr th:only-of-type {\n",
       "        vertical-align: middle;\n",
       "    }\n",
       "\n",
       "    .dataframe tbody tr th {\n",
       "        vertical-align: top;\n",
       "    }\n",
       "\n",
       "    .dataframe thead th {\n",
       "        text-align: right;\n",
       "    }\n",
       "</style>\n",
       "<table border=\"1\" class=\"dataframe\">\n",
       "  <thead>\n",
       "    <tr style=\"text-align: right;\">\n",
       "      <th></th>\n",
       "      <th>url</th>\n",
       "      <th>timedelta</th>\n",
       "      <th>n_tokens_title</th>\n",
       "      <th>n_tokens_content</th>\n",
       "      <th>n_unique_tokens</th>\n",
       "      <th>n_non_stop_words</th>\n",
       "      <th>n_non_stop_unique_tokens</th>\n",
       "      <th>num_hrefs</th>\n",
       "      <th>num_self_hrefs</th>\n",
       "      <th>num_imgs</th>\n",
       "      <th>...</th>\n",
       "      <th>min_positive_polarity</th>\n",
       "      <th>max_positive_polarity</th>\n",
       "      <th>avg_negative_polarity</th>\n",
       "      <th>min_negative_polarity</th>\n",
       "      <th>max_negative_polarity</th>\n",
       "      <th>title_subjectivity</th>\n",
       "      <th>title_sentiment_polarity</th>\n",
       "      <th>abs_title_subjectivity</th>\n",
       "      <th>abs_title_sentiment_polarity</th>\n",
       "      <th>shares</th>\n",
       "    </tr>\n",
       "  </thead>\n",
       "  <tbody>\n",
       "    <tr>\n",
       "      <th>0</th>\n",
       "      <td>http://mashable.com/2013/01/07/amazon-instant-...</td>\n",
       "      <td>731.0</td>\n",
       "      <td>12.0</td>\n",
       "      <td>219.0</td>\n",
       "      <td>0.663594</td>\n",
       "      <td>1.0</td>\n",
       "      <td>0.815385</td>\n",
       "      <td>4.0</td>\n",
       "      <td>2.0</td>\n",
       "      <td>1.0</td>\n",
       "      <td>...</td>\n",
       "      <td>0.100000</td>\n",
       "      <td>0.7</td>\n",
       "      <td>-0.350000</td>\n",
       "      <td>-0.600</td>\n",
       "      <td>-0.200000</td>\n",
       "      <td>0.500000</td>\n",
       "      <td>-0.187500</td>\n",
       "      <td>0.000000</td>\n",
       "      <td>0.187500</td>\n",
       "      <td>593</td>\n",
       "    </tr>\n",
       "    <tr>\n",
       "      <th>1</th>\n",
       "      <td>http://mashable.com/2013/01/07/ap-samsung-spon...</td>\n",
       "      <td>731.0</td>\n",
       "      <td>9.0</td>\n",
       "      <td>255.0</td>\n",
       "      <td>0.604743</td>\n",
       "      <td>1.0</td>\n",
       "      <td>0.791946</td>\n",
       "      <td>3.0</td>\n",
       "      <td>1.0</td>\n",
       "      <td>1.0</td>\n",
       "      <td>...</td>\n",
       "      <td>0.033333</td>\n",
       "      <td>0.7</td>\n",
       "      <td>-0.118750</td>\n",
       "      <td>-0.125</td>\n",
       "      <td>-0.100000</td>\n",
       "      <td>0.000000</td>\n",
       "      <td>0.000000</td>\n",
       "      <td>0.500000</td>\n",
       "      <td>0.000000</td>\n",
       "      <td>711</td>\n",
       "    </tr>\n",
       "    <tr>\n",
       "      <th>2</th>\n",
       "      <td>http://mashable.com/2013/01/07/apple-40-billio...</td>\n",
       "      <td>731.0</td>\n",
       "      <td>9.0</td>\n",
       "      <td>211.0</td>\n",
       "      <td>0.575130</td>\n",
       "      <td>1.0</td>\n",
       "      <td>0.663866</td>\n",
       "      <td>3.0</td>\n",
       "      <td>1.0</td>\n",
       "      <td>1.0</td>\n",
       "      <td>...</td>\n",
       "      <td>0.100000</td>\n",
       "      <td>1.0</td>\n",
       "      <td>-0.466667</td>\n",
       "      <td>-0.800</td>\n",
       "      <td>-0.133333</td>\n",
       "      <td>0.000000</td>\n",
       "      <td>0.000000</td>\n",
       "      <td>0.500000</td>\n",
       "      <td>0.000000</td>\n",
       "      <td>1500</td>\n",
       "    </tr>\n",
       "    <tr>\n",
       "      <th>3</th>\n",
       "      <td>http://mashable.com/2013/01/07/astronaut-notre...</td>\n",
       "      <td>731.0</td>\n",
       "      <td>9.0</td>\n",
       "      <td>531.0</td>\n",
       "      <td>0.503788</td>\n",
       "      <td>1.0</td>\n",
       "      <td>0.665635</td>\n",
       "      <td>9.0</td>\n",
       "      <td>0.0</td>\n",
       "      <td>1.0</td>\n",
       "      <td>...</td>\n",
       "      <td>0.136364</td>\n",
       "      <td>0.8</td>\n",
       "      <td>-0.369697</td>\n",
       "      <td>-0.600</td>\n",
       "      <td>-0.166667</td>\n",
       "      <td>0.000000</td>\n",
       "      <td>0.000000</td>\n",
       "      <td>0.500000</td>\n",
       "      <td>0.000000</td>\n",
       "      <td>1200</td>\n",
       "    </tr>\n",
       "    <tr>\n",
       "      <th>4</th>\n",
       "      <td>http://mashable.com/2013/01/07/att-u-verse-apps/</td>\n",
       "      <td>731.0</td>\n",
       "      <td>13.0</td>\n",
       "      <td>1072.0</td>\n",
       "      <td>0.415646</td>\n",
       "      <td>1.0</td>\n",
       "      <td>0.540890</td>\n",
       "      <td>19.0</td>\n",
       "      <td>19.0</td>\n",
       "      <td>20.0</td>\n",
       "      <td>...</td>\n",
       "      <td>0.033333</td>\n",
       "      <td>1.0</td>\n",
       "      <td>-0.220192</td>\n",
       "      <td>-0.500</td>\n",
       "      <td>-0.050000</td>\n",
       "      <td>0.454545</td>\n",
       "      <td>0.136364</td>\n",
       "      <td>0.045455</td>\n",
       "      <td>0.136364</td>\n",
       "      <td>505</td>\n",
       "    </tr>\n",
       "  </tbody>\n",
       "</table>\n",
       "<p>5 rows × 61 columns</p>\n",
       "</div>"
      ],
      "text/plain": [
       "                                                 url   timedelta  \\\n",
       "0  http://mashable.com/2013/01/07/amazon-instant-...       731.0   \n",
       "1  http://mashable.com/2013/01/07/ap-samsung-spon...       731.0   \n",
       "2  http://mashable.com/2013/01/07/apple-40-billio...       731.0   \n",
       "3  http://mashable.com/2013/01/07/astronaut-notre...       731.0   \n",
       "4   http://mashable.com/2013/01/07/att-u-verse-apps/       731.0   \n",
       "\n",
       "    n_tokens_title   n_tokens_content   n_unique_tokens   n_non_stop_words  \\\n",
       "0             12.0              219.0          0.663594                1.0   \n",
       "1              9.0              255.0          0.604743                1.0   \n",
       "2              9.0              211.0          0.575130                1.0   \n",
       "3              9.0              531.0          0.503788                1.0   \n",
       "4             13.0             1072.0          0.415646                1.0   \n",
       "\n",
       "    n_non_stop_unique_tokens   num_hrefs   num_self_hrefs   num_imgs  ...  \\\n",
       "0                   0.815385         4.0              2.0        1.0  ...   \n",
       "1                   0.791946         3.0              1.0        1.0  ...   \n",
       "2                   0.663866         3.0              1.0        1.0  ...   \n",
       "3                   0.665635         9.0              0.0        1.0  ...   \n",
       "4                   0.540890        19.0             19.0       20.0  ...   \n",
       "\n",
       "    min_positive_polarity   max_positive_polarity   avg_negative_polarity  \\\n",
       "0                0.100000                     0.7               -0.350000   \n",
       "1                0.033333                     0.7               -0.118750   \n",
       "2                0.100000                     1.0               -0.466667   \n",
       "3                0.136364                     0.8               -0.369697   \n",
       "4                0.033333                     1.0               -0.220192   \n",
       "\n",
       "    min_negative_polarity   max_negative_polarity   title_subjectivity  \\\n",
       "0                  -0.600               -0.200000             0.500000   \n",
       "1                  -0.125               -0.100000             0.000000   \n",
       "2                  -0.800               -0.133333             0.000000   \n",
       "3                  -0.600               -0.166667             0.000000   \n",
       "4                  -0.500               -0.050000             0.454545   \n",
       "\n",
       "    title_sentiment_polarity   abs_title_subjectivity  \\\n",
       "0                  -0.187500                 0.000000   \n",
       "1                   0.000000                 0.500000   \n",
       "2                   0.000000                 0.500000   \n",
       "3                   0.000000                 0.500000   \n",
       "4                   0.136364                 0.045455   \n",
       "\n",
       "    abs_title_sentiment_polarity   shares  \n",
       "0                       0.187500      593  \n",
       "1                       0.000000      711  \n",
       "2                       0.000000     1500  \n",
       "3                       0.000000     1200  \n",
       "4                       0.136364      505  \n",
       "\n",
       "[5 rows x 61 columns]"
      ]
     },
     "execution_count": 8,
     "metadata": {},
     "output_type": "execute_result"
    }
   ],
   "source": [
    "#overall\n",
    "data_to_load = \"../Original Database Files/OnlineNewsPopularity.csv\"\n",
    "df_all = pd.read_csv(data_to_load)\n",
    "df_all.head()"
   ]
  },
  {
   "cell_type": "code",
   "execution_count": 9,
   "id": "d4af3d65-1580-4f22-832b-2cae7b4fbc88",
   "metadata": {},
   "outputs": [
    {
     "data": {
      "text/plain": [
       "2099"
      ]
     },
     "execution_count": 9,
     "metadata": {},
     "output_type": "execute_result"
    }
   ],
   "source": [
    "#group1 counts\n",
    "lifestyle = df.sum()[\"data_channel_is_lifestyle\"]\n",
    "lifestyle"
   ]
  },
  {
   "cell_type": "code",
   "execution_count": 10,
   "id": "2d272458-f550-498f-975a-74adfa293c5d",
   "metadata": {},
   "outputs": [
    {
     "data": {
      "text/plain": [
       "7728.777"
      ]
     },
     "execution_count": 10,
     "metadata": {},
     "output_type": "execute_result"
    }
   ],
   "source": [
    "#group1 counts\n",
    "\n",
    "lifestyle_total_shares = df_all[(df_all[\" data_channel_is_lifestyle\"] >= 1)].sum()[' shares']\n",
    "lifestyle_total_shares = lifestyle_total_shares / 1000\n",
    "lifestyle_total_shares"
   ]
  },
  {
   "cell_type": "code",
   "execution_count": 11,
   "id": "79038519-6209-4122-aab9-2566d152bcb8",
   "metadata": {},
   "outputs": [
    {
     "data": {
      "text/plain": [
       "20962.727"
      ]
     },
     "execution_count": 11,
     "metadata": {},
     "output_type": "execute_result"
    }
   ],
   "source": [
    "#group2 counts\n",
    "\n",
    "\n",
    "entertainment_total_shares = df_all[(df_all[\" data_channel_is_entertainment\"] >= 1)].sum()[' shares']\n",
    "entertainment_total_shares = entertainment_total_shares/ 1000\n",
    "entertainment_total_shares"
   ]
  },
  {
   "cell_type": "code",
   "execution_count": 12,
   "id": "535e65c8-d20c-4d08-adcd-08ab44cb37f6",
   "metadata": {},
   "outputs": [
    {
     "data": {
      "text/plain": [
       "19168.37"
      ]
     },
     "execution_count": 12,
     "metadata": {},
     "output_type": "execute_result"
    }
   ],
   "source": [
    "#group3 counts\n",
    "\n",
    "\n",
    "bus_total_shares = df_all[(df_all[\" data_channel_is_bus\"] >= 1)].sum()[' shares']\n",
    "bus_total_shares = bus_total_shares/ 1000\n",
    "bus_total_shares"
   ]
  },
  {
   "cell_type": "code",
   "execution_count": 13,
   "id": "1ee3fed3-7526-45ec-ba21-142bf4c916f6",
   "metadata": {},
   "outputs": [
    {
     "data": {
      "text/plain": [
       "8431.057"
      ]
     },
     "execution_count": 13,
     "metadata": {},
     "output_type": "execute_result"
    }
   ],
   "source": [
    "#group3 counts\n",
    "\n",
    "\n",
    "socmed_total_shares = df_all[(df_all[\" data_channel_is_socmed\"] >= 1)].sum()[' shares']\n",
    "socmed_total_shares = socmed_total_shares / 1000\n",
    "socmed_total_shares"
   ]
  },
  {
   "cell_type": "code",
   "execution_count": 14,
   "id": "452b8ad2-056f-4a15-8dac-a19b556ddf90",
   "metadata": {},
   "outputs": [
    {
     "data": {
      "text/plain": [
       "22568.993"
      ]
     },
     "execution_count": 14,
     "metadata": {},
     "output_type": "execute_result"
    }
   ],
   "source": [
    "#group4 counts\n",
    "\n",
    "\n",
    "tech_total_shares = df_all[(df_all[\" data_channel_is_tech\"] >= 1)].sum()[' shares']\n",
    "tech_total_shares = tech_total_shares / 1000\n",
    "tech_total_shares"
   ]
  },
  {
   "cell_type": "code",
   "execution_count": 15,
   "id": "76b1dc6a-f0ea-4fc9-9689-2747cd8c6760",
   "metadata": {},
   "outputs": [
    {
     "data": {
      "text/plain": [
       "19278.735"
      ]
     },
     "execution_count": 15,
     "metadata": {},
     "output_type": "execute_result"
    }
   ],
   "source": [
    "#group5 counts\n",
    "\n",
    "\n",
    "world_total_shares = df_all[(df_all[\" data_channel_is_world\"] >= 1)].sum()[' shares']\n",
    "world_total_shares =  world_total_shares / 1000\n",
    "world_total_shares"
   ]
  },
  {
   "cell_type": "code",
   "execution_count": 16,
   "id": "0f99f08f-404f-4313-9558-1fb23d41cb13",
   "metadata": {},
   "outputs": [
    {
     "data": {
      "text/html": [
       "<div>\n",
       "<style scoped>\n",
       "    .dataframe tbody tr th:only-of-type {\n",
       "        vertical-align: middle;\n",
       "    }\n",
       "\n",
       "    .dataframe tbody tr th {\n",
       "        vertical-align: top;\n",
       "    }\n",
       "\n",
       "    .dataframe thead th {\n",
       "        text-align: right;\n",
       "    }\n",
       "</style>\n",
       "<table border=\"1\" class=\"dataframe\">\n",
       "  <thead>\n",
       "    <tr style=\"text-align: right;\">\n",
       "      <th></th>\n",
       "      <th>Lifestyle</th>\n",
       "      <th>Entertainment</th>\n",
       "      <th>Business</th>\n",
       "      <th>Social Media</th>\n",
       "      <th>Technology</th>\n",
       "      <th>World</th>\n",
       "    </tr>\n",
       "  </thead>\n",
       "  <tbody>\n",
       "    <tr>\n",
       "      <th>0</th>\n",
       "      <td>7728.777</td>\n",
       "      <td>20962.727</td>\n",
       "      <td>19168.37</td>\n",
       "      <td>8431.057</td>\n",
       "      <td>22568.993</td>\n",
       "      <td>19278.735</td>\n",
       "    </tr>\n",
       "  </tbody>\n",
       "</table>\n",
       "</div>"
      ],
      "text/plain": [
       "   Lifestyle  Entertainment  Business  Social Media  Technology      World\n",
       "0   7728.777      20962.727  19168.37      8431.057   22568.993  19278.735"
      ]
     },
     "execution_count": 16,
     "metadata": {},
     "output_type": "execute_result"
    }
   ],
   "source": [
    "#dataframe\n",
    "\n",
    "\n",
    "df_channels = pd.DataFrame(\n",
    "    [{\"Lifestyle\": lifestyle_total_shares,\n",
    "      \"Entertainment\": entertainment_total_shares,\n",
    "      \"Business\": bus_total_shares,\n",
    "      \"Social Media\": socmed_total_shares,\n",
    "      \"Technology\": tech_total_shares,\n",
    "      \"World\": world_total_shares}])\n",
    "\n",
    "#df_channels[\"Lifestyle\"] = df_channels[\"Lifestyle\"].map(\"{:,}\".format)\n",
    "#df_channels[\"Entertainment\"] = df_channels[\"Entertainment\"].map(\"{:,}\".format)\n",
    "#df_channels[\"Business\"] = df_channels[\"Business\"].map(\"{:,}\".format)\n",
    "#df_channels[\"Social Media\"] = df_channels[\"Social Media\"].map(\"{:,}\".format)\n",
    "#df_channels[\"Technology\"] = df_channels[\"Technology\"].map(\"{:,}\".format)\n",
    "#df_channels[\"World\"] = df_channels[\"World\"].map(\"{:,}\".format)\n",
    "\n",
    "df_channels"
   ]
  },
  {
   "cell_type": "code",
   "execution_count": 17,
   "id": "1b6592d7-46ba-46f4-bdbc-e7301448da6b",
   "metadata": {},
   "outputs": [],
   "source": [
    "#df_channels = df_channels.rename(index={0:\"Total Number of Shares\"})"
   ]
  },
  {
   "cell_type": "code",
   "execution_count": 18,
   "id": "6735c489-4fc2-4b6b-9903-637fc84a4e63",
   "metadata": {},
   "outputs": [],
   "source": [
    "x = [\"Lifestyle\", \"Entertainment\", \"Business\", \"Social Media\", \"Technology\", \"World\"]\n",
    "y1=df_channels[\"Lifestyle\"].values[0]\n",
    "y2=df_channels[\"Entertainment\"].values[0]\n",
    "y3=df_channels[\"Business\"].values[0]\n",
    "y4=df_channels[\"Social Media\"].values[0]\n",
    "y5=df_channels[\"Technology\"].values[0]\n",
    "y6=df_channels[\"World\"].values[0]\n",
    "y=[y1,y2,y3,y4,y5,y6]\n",
    "#y = [7728.78, 20962.73, 9168.37, 8431.06, 22568.99, 19278.74]"
   ]
  },
  {
   "cell_type": "code",
   "execution_count": 19,
   "id": "0395bb68-1a8c-4d85-be35-4ba667af07f4",
   "metadata": {},
   "outputs": [
    {
     "data": {
      "image/png": "[encoded data removed]",
      "text/plain": [
       "<Figure size 864x720 with 1 Axes>"
      ]
     },
     "metadata": {},
     "output_type": "display_data"
    }
   ],
   "source": [
    "#make figure\n",
    "#plt.style.use(\"fivethirtyeight\")\n",
    "\n",
    "plt.figure(figsize=(12,10), facecolor='white')\n",
    "\n",
    "ax = plt.axes()\n",
    "ax.set_facecolor(\"white\")\n",
    "\n",
    "plt.bar(x,y, color=['crimson', 'orange', 'green', 'teal', 'blue', 'indigo'])\n",
    "plt.title(\"Total Number of Shares By Channel (per 1,000)\", fontweight=\"bold\")\n",
    "plt.xlabel(\"Channel Type\", fontweight=\"bold\")\n",
    "plt.ylabel(\"Number of Shares (per 1,000)\", fontweight=\"bold\")\n",
    "\n",
    "plt.grid(False)\n",
    "\n",
    "for i in range(len(x)):\n",
    "    plt.text(i, y[i], y[i], ha=\"center\", va=\"bottom\")\n",
    "\n",
    "#plt.tight_layout()\n",
    "#plt.savefig(\"Online_News_Project/Images/Total_Shares_Channel.png\")\n",
    "\n",
    "plt.show()"
   ]
  },
  {
   "cell_type": "markdown",
   "id": "befabed6-34c8-4b68-aafe-51465b2b7a40",
   "metadata": {},
   "source": [
    "### Average number of shares per article by channel type"
   ]
  },
  {
   "cell_type": "code",
   "execution_count": 28,
   "id": "0580e0ac-5932-4af7-86a0-2896c0376c70",
   "metadata": {},
   "outputs": [
    {
     "data": {
      "text/plain": [
       "2099"
      ]
     },
     "execution_count": 28,
     "metadata": {},
     "output_type": "execute_result"
    }
   ],
   "source": [
    "#counts\n",
    "lifestyle_count = df_all[(df_all[\" data_channel_is_lifestyle\"] >= 1)].count()[\"url\"]\n",
    "lifestyle_count"
   ]
  },
  {
   "cell_type": "code",
   "execution_count": 29,
   "id": "8584da1c-b2dc-4c16-b0dc-588cbfa5eaa3",
   "metadata": {},
   "outputs": [
    {
     "data": {
      "text/plain": [
       "3.68"
      ]
     },
     "execution_count": 29,
     "metadata": {},
     "output_type": "execute_result"
    }
   ],
   "source": [
    "#counts\n",
    "\n",
    "lifestyle_avg = lifestyle_total_shares/lifestyle_count\n",
    "lifestyle_avg.round(2)"
   ]
  },
  {
   "cell_type": "code",
   "execution_count": 30,
   "id": "02082211-b680-4e6d-aa5f-4d7cd73d588d",
   "metadata": {},
   "outputs": [
    {
     "data": {
      "text/plain": [
       "2.97"
      ]
     },
     "execution_count": 30,
     "metadata": {},
     "output_type": "execute_result"
    }
   ],
   "source": [
    "#counts\n",
    "\n",
    "\n",
    "entertainment_count = df_all[(df_all[\" data_channel_is_entertainment\"] >= 1)].count()[\"url\"]\n",
    "entertainment_avg = entertainment_total_shares/entertainment_count\n",
    "entertainment_avg.round(2)"
   ]
  },
  {
   "cell_type": "code",
   "execution_count": 31,
   "id": "e82919c2-5639-4b89-954a-637704b0c004",
   "metadata": {},
   "outputs": [
    {
     "data": {
      "text/plain": [
       "3.06"
      ]
     },
     "execution_count": 31,
     "metadata": {},
     "output_type": "execute_result"
    }
   ],
   "source": [
    "#counts\n",
    "\n",
    "bus_count = df_all[(df_all[\" data_channel_is_bus\"] >= 1)].count()[\"url\"]\n",
    "bus_avg = bus_total_shares/bus_count\n",
    "bus_avg.round(2)"
   ]
  },
  {
   "cell_type": "code",
   "execution_count": 32,
   "id": "3f108397-a8d6-4c03-b8cb-bf09e144af91",
   "metadata": {},
   "outputs": [
    {
     "data": {
      "text/plain": [
       "3.63"
      ]
     },
     "execution_count": 32,
     "metadata": {},
     "output_type": "execute_result"
    }
   ],
   "source": [
    "#counts\n",
    "\n",
    "\n",
    "socmed_count = df_all[(df_all[\" data_channel_is_socmed\"] >= 1)].count()[\"url\"]\n",
    "socmed_avg = socmed_total_shares/socmed_count\n",
    "socmed_avg.round(2)"
   ]
  },
  {
   "cell_type": "code",
   "execution_count": 33,
   "id": "cc639107-1644-44ab-828d-2a9d3cafc910",
   "metadata": {},
   "outputs": [
    {
     "data": {
      "text/plain": [
       "3.07"
      ]
     },
     "execution_count": 33,
     "metadata": {},
     "output_type": "execute_result"
    }
   ],
   "source": [
    "#counts\n",
    "\n",
    "\n",
    "tech_count = df_all[(df_all[\" data_channel_is_tech\"] >= 1)].count()[\"url\"]\n",
    "tech_avg = tech_total_shares/tech_count\n",
    "tech_avg.round(2)"
   ]
  },
  {
   "cell_type": "code",
   "execution_count": 34,
   "id": "97248abd-07a8-4c83-93c4-57a53af730d3",
   "metadata": {},
   "outputs": [
    {
     "data": {
      "text/plain": [
       "2.29"
      ]
     },
     "execution_count": 34,
     "metadata": {},
     "output_type": "execute_result"
    }
   ],
   "source": [
    "#counts\n",
    "\n",
    "\n",
    "world_count = df_all[(df_all[\" data_channel_is_world\"] >= 1)].count()[\"url\"]\n",
    "world_avg = world_total_shares/world_count\n",
    "world_avg.round(2)"
   ]
  },
  {
   "cell_type": "code",
   "execution_count": 35,
   "id": "1c0fc2bb-5dd6-45a3-bc95-208f87626254",
   "metadata": {},
   "outputs": [
    {
     "data": {
      "text/html": [
       "<div>\n",
       "<style scoped>\n",
       "    .dataframe tbody tr th:only-of-type {\n",
       "        vertical-align: middle;\n",
       "    }\n",
       "\n",
       "    .dataframe tbody tr th {\n",
       "        vertical-align: top;\n",
       "    }\n",
       "\n",
       "    .dataframe thead th {\n",
       "        text-align: right;\n",
       "    }\n",
       "</style>\n",
       "<table border=\"1\" class=\"dataframe\">\n",
       "  <thead>\n",
       "    <tr style=\"text-align: right;\">\n",
       "      <th></th>\n",
       "      <th>Lifestyle</th>\n",
       "      <th>Entertainment</th>\n",
       "      <th>Business</th>\n",
       "      <th>Social Media</th>\n",
       "      <th>Technology</th>\n",
       "      <th>World</th>\n",
       "    </tr>\n",
       "  </thead>\n",
       "  <tbody>\n",
       "    <tr>\n",
       "      <th>0</th>\n",
       "      <td>3.682123</td>\n",
       "      <td>2.970487</td>\n",
       "      <td>3.063019</td>\n",
       "      <td>3.629383</td>\n",
       "      <td>3.072283</td>\n",
       "      <td>2.287734</td>\n",
       "    </tr>\n",
       "  </tbody>\n",
       "</table>\n",
       "</div>"
      ],
      "text/plain": [
       "   Lifestyle  Entertainment  Business  Social Media  Technology     World\n",
       "0   3.682123       2.970487  3.063019      3.629383    3.072283  2.287734"
      ]
     },
     "execution_count": 35,
     "metadata": {},
     "output_type": "execute_result"
    }
   ],
   "source": [
    "#dataframe\n",
    "df_channels_avg = pd.DataFrame(\n",
    "    [{\"Lifestyle\": lifestyle_avg,\n",
    "      \"Entertainment\": entertainment_avg,\n",
    "      \"Business\": bus_avg,\n",
    "      \"Social Media\": socmed_avg,\n",
    "      \"Technology\": tech_avg,\n",
    "      \"World\": world_avg}])\n",
    "\n",
    "df_channels_avg"
   ]
  },
  {
   "cell_type": "code",
   "execution_count": 36,
   "id": "01dfa04a-300e-4d2f-9826-3c85f7c7ea5c",
   "metadata": {},
   "outputs": [],
   "source": [
    "x = [\"Lifestyle\", \"Entertainment\", \"Business\", \"Social Media\", \"Technology\", \"World\"]\n",
    "y = [3.68, 2.97, 3.06, 3.63, 3.07, 2.29]"
   ]
  },
  {
   "cell_type": "code",
   "execution_count": 37,
   "id": "85d7c77a-f4ff-4f1d-83c3-8e914f5ef49f",
   "metadata": {},
   "outputs": [
    {
     "data": {
      "image/png": "[encoded data removed]",
      "text/plain": [
       "<Figure size 864x576 with 1 Axes>"
      ]
     },
     "metadata": {},
     "output_type": "display_data"
    }
   ],
   "source": [
    "#figure\n",
    "plt.figure(figsize=(12,8), facecolor='white')\n",
    "\n",
    "ax = plt.axes()\n",
    "ax.set_facecolor(\"white\")\n",
    "\n",
    "plt.bar(x, y, color=['crimson', 'orange', 'green', 'teal', 'blue', 'indigo'])\n",
    "plt.title(\"Average Number of Shares Per Article by By Channel\", fontweight=\"bold\")\n",
    "plt.xlabel(\"Channel Type\", fontweight=\"bold\")\n",
    "plt.ylabel(\"Average Number of Shares Per Article\", fontweight=\"bold\")\n",
    "\n",
    "ax.set_ylim([1.0,4.0])\n",
    "\n",
    "plt.grid(False)\n",
    "\n",
    "for i in range(len(x)):\n",
    "    plt.text(i, y[i], y[i], ha=\"center\", va=\"bottom\")\n",
    "\n",
    "#plt.tight_layout()\n",
    "#plt.savefig(\"Online_News_Project/Images/Avg_Shares_Channel.png\")\n",
    "\n",
    "plt.show()"
   ]
  }
 ],
 "metadata": {
  "kernelspec": {
   "display_name": "Python 3",
   "language": "python",
   "name": "python3"
  },
  "language_info": {
   "codemirror_mode": {
    "name": "ipython",
    "version": 3
   },
   "file_extension": ".py",
   "mimetype": "text/x-python",
   "name": "python",
   "nbconvert_exporter": "python",
   "pygments_lexer": "ipython3",
   "version": "3.6.10"
  }
 },
 "nbformat": 4,
 "nbformat_minor": 5
}
