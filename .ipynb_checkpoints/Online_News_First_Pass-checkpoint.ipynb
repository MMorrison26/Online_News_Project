{
 "cells": [
  {
   "cell_type": "code",
   "execution_count": 2,
   "id": "682fe97a",
   "metadata": {},
   "outputs": [
    {
     "ename": "ModuleNotFoundError",
     "evalue": "No module named 'sklearn'",
     "output_type": "error",
     "traceback": [
      "\u001b[0;31m---------------------------------------------------------------------------\u001b[0m",
      "\u001b[0;31mModuleNotFoundError\u001b[0m                       Traceback (most recent call last)",
      "\u001b[0;32m/var/folders/xr/7pzc3t1n49gf06v72f9smjfc0000gn/T/ipykernel_2048/850908281.py\u001b[0m in \u001b[0;36m<module>\u001b[0;34m\u001b[0m\n\u001b[1;32m      2\u001b[0m \u001b[0;32mimport\u001b[0m \u001b[0mos\u001b[0m\u001b[0;34m\u001b[0m\u001b[0;34m\u001b[0m\u001b[0m\n\u001b[1;32m      3\u001b[0m \u001b[0;32mimport\u001b[0m \u001b[0mmatplotlib\u001b[0m\u001b[0;34m.\u001b[0m\u001b[0mpyplot\u001b[0m \u001b[0;32mas\u001b[0m \u001b[0mplt\u001b[0m\u001b[0;34m\u001b[0m\u001b[0;34m\u001b[0m\u001b[0m\n\u001b[0;32m----> 4\u001b[0;31m \u001b[0;32mfrom\u001b[0m \u001b[0msklearn\u001b[0m\u001b[0;34m.\u001b[0m\u001b[0mdatasets\u001b[0m \u001b[0;32mimport\u001b[0m \u001b[0mmake_blobs\u001b[0m\u001b[0;34m\u001b[0m\u001b[0;34m\u001b[0m\u001b[0m\n\u001b[0m",
      "\u001b[0;31mModuleNotFoundError\u001b[0m: No module named 'sklearn'"
     ]
    }
   ],
   "source": [
    "import pandas as pd\n",
    "import os\n",
    "import matplotlib.pyplot as plt\n"
   ]
  },
  {
   "cell_type": "code",
   "execution_count": null,
   "id": "36808ae5",
   "metadata": {},
   "outputs": [],
   "source": [
    "online_news_raw_data = os.path.join('OnlineNewsPopularity.csv')"
   ]
  },
  {
   "cell_type": "code",
   "execution_count": null,
   "id": "ebffe7da",
   "metadata": {},
   "outputs": [],
   "source": [
    "online_news_df = pd.read_csv(online_news_raw_data)\n",
    "online_news_df.head()"
   ]
  },
  {
   "cell_type": "code",
   "execution_count": null,
   "id": "a4fed5e4",
   "metadata": {},
   "outputs": [],
   "source": [
    "plt.scatter(online_news_df.iloc[:,2], online_news_df.iloc[:,60])\n",
    "plt.xlabel('# of Words in Title')\n",
    "plt.ylabel('Shares')\n",
    "plt.title(\"Article Title Length vs. Shares\")\n",
    "plt.show()\n"
   ]
  },
  {
   "cell_type": "code",
   "execution_count": null,
   "id": "69ca1133",
   "metadata": {},
   "outputs": [],
   "source": [
    "plt.scatter(online_news_df.iloc[:,48], online_news_df.iloc[:,60])\n",
    "plt.xlabel('Positive Words')\n",
    "plt.ylabel('Shares')\n",
    "plt.title(\"Positive Words vs. Shares\")\n",
    "plt.show()"
   ]
  },
  {
   "cell_type": "code",
   "execution_count": null,
   "id": "37f1c558",
   "metadata": {},
   "outputs": [],
   "source": [
    "x1 = online_news_df.iloc[:,48]\n",
    "x2 = online_news_df.iloc[:,49]\n",
    "y = online_news_df.iloc[:,60]\n",
    "plt.scatter(x1, y)\n",
    "plt.scatter(x2, y, color='r')\n",
    "plt.title(\"Positive/Negative words vs. Shares\")\n",
    "plt.legend([\"Positive\",\"Negative\"])\n",
    "plt.show()"
   ]
  },
  {
   "cell_type": "code",
   "execution_count": null,
   "id": "735ea169",
   "metadata": {},
   "outputs": [],
   "source": [
    "x1 = online_news_df.iloc[:,50]\n",
    "x2 = online_news_df.iloc[:,53]\n",
    "y = online_news_df.iloc[:,60]\n",
    "plt.scatter(x1, y)\n",
    "plt.scatter(x2, y, color='r')\n",
    "plt.title(\"Polarity vs. Shares\")\n",
    "plt.legend([\"Positive\",\"Negative\"])\n",
    "plt.show()"
   ]
  },
  {
   "cell_type": "code",
   "execution_count": null,
   "id": "64f5a602",
   "metadata": {},
   "outputs": [],
   "source": [
    "from sklearn.model_selection import train_test_split\n",
    "X_train, X_test, y_train, y_test = train_test_split(X,\n",
    "    y, random_state=1, stratify=y)"
   ]
  },
  {
   "cell_type": "code",
   "execution_count": null,
   "id": "8784ee68",
   "metadata": {},
   "outputs": [],
   "source": []
  }
 ],
 "metadata": {
  "kernelspec": {
   "display_name": "PythonData",
   "language": "python",
   "name": "pythondata"
  },
  "language_info": {
   "codemirror_mode": {
    "name": "ipython",
    "version": 3
   },
   "file_extension": ".py",
   "mimetype": "text/x-python",
   "name": "python",
   "nbconvert_exporter": "python",
   "pygments_lexer": "ipython3",
   "version": "3.7.11"
  }
 },
 "nbformat": 4,
 "nbformat_minor": 5
}
